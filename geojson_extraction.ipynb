{
 "cells": [
  {
   "cell_type": "code",
   "execution_count": 5,
   "id": "f17400e2",
   "metadata": {},
   "outputs": [
    {
     "data": {
      "text/html": [
       "\n",
       "            <style>\n",
       "                .geemap-dark {\n",
       "                    --jp-widgets-color: white;\n",
       "                    --jp-widgets-label-color: white;\n",
       "                    --jp-ui-font-color1: white;\n",
       "                    --jp-layout-color2: #454545;\n",
       "                    background-color: #383838;\n",
       "                }\n",
       "\n",
       "                .geemap-dark .jupyter-button {\n",
       "                    --jp-layout-color3: #383838;\n",
       "                }\n",
       "\n",
       "                .geemap-colab {\n",
       "                    background-color: var(--colab-primary-surface-color, white);\n",
       "                }\n",
       "\n",
       "                .geemap-colab .jupyter-button {\n",
       "                    --jp-layout-color3: var(--colab-primary-surface-color, white);\n",
       "                }\n",
       "            </style>\n",
       "            "
      ],
      "text/plain": [
       "<IPython.core.display.HTML object>"
      ]
     },
     "metadata": {},
     "output_type": "display_data"
    }
   ],
   "source": [
    "import glob\n",
    "import tempfile\n",
    "import os\n",
    "import zipfile\n",
    "from pathlib import Path\n",
    "import shutil"
   ]
  },
  {
   "cell_type": "code",
   "execution_count": 6,
   "id": "ebf0a509",
   "metadata": {},
   "outputs": [
    {
     "data": {
      "text/html": [
       "\n",
       "            <style>\n",
       "                .geemap-dark {\n",
       "                    --jp-widgets-color: white;\n",
       "                    --jp-widgets-label-color: white;\n",
       "                    --jp-ui-font-color1: white;\n",
       "                    --jp-layout-color2: #454545;\n",
       "                    background-color: #383838;\n",
       "                }\n",
       "\n",
       "                .geemap-dark .jupyter-button {\n",
       "                    --jp-layout-color3: #383838;\n",
       "                }\n",
       "\n",
       "                .geemap-colab {\n",
       "                    background-color: var(--colab-primary-surface-color, white);\n",
       "                }\n",
       "\n",
       "                .geemap-colab .jupyter-button {\n",
       "                    --jp-layout-color3: var(--colab-primary-surface-color, white);\n",
       "                }\n",
       "            </style>\n",
       "            "
      ],
      "text/plain": [
       "<IPython.core.display.HTML object>"
      ]
     },
     "metadata": {},
     "output_type": "display_data"
    },
    {
     "data": {
      "text/plain": [
       "[PosixPath('geojson/73.15_Pinrang.zip'),\n",
       " PosixPath('geojson/73.04_Jeneponto.zip'),\n",
       " PosixPath('geojson/73.10_Pangkajene_Kepulauan.zip'),\n",
       " PosixPath('geojson/73.17_Luwu.zip'),\n",
       " PosixPath('geojson/73.08_Bone.zip'),\n",
       " PosixPath('geojson/73.26_Toraja_Utara.zip'),\n",
       " PosixPath('geojson/73.05_Takalar.zip'),\n",
       " PosixPath('geojson/73.03_Bantaeng.zip'),\n",
       " PosixPath('geojson/73.06_Gowa.zip'),\n",
       " PosixPath('geojson/73.14_Sidenreng_Rappang.zip'),\n",
       " PosixPath('geojson/73.72_Kota_Pare_Pare.zip'),\n",
       " PosixPath('geojson/73.73_Kota_Palopo.zip'),\n",
       " PosixPath('geojson/73.13_Wajo.zip'),\n",
       " PosixPath('geojson/73.07_Sinjai.zip'),\n",
       " PosixPath('geojson/73.24_Luwu_Timur.zip'),\n",
       " PosixPath('geojson/73.22_Luwu_Utara.zip'),\n",
       " PosixPath('geojson/73.16_Enrekang.zip'),\n",
       " PosixPath('geojson/73.71_Kota_Makassar.zip'),\n",
       " PosixPath('geojson/73.11_Barru.zip'),\n",
       " PosixPath('geojson/73.09_Maros.zip'),\n",
       " PosixPath('geojson/73.18_Tana_Toraja.zip'),\n",
       " PosixPath('geojson/73.12_Soppeng.zip'),\n",
       " PosixPath('geojson/73.02_Bulukumba.zip'),\n",
       " PosixPath('geojson/73.01_Kepulauan_Selayar.zip')]"
      ]
     },
     "execution_count": 6,
     "metadata": {},
     "output_type": "execute_result"
    }
   ],
   "source": [
    "geojson_files =list(map(lambda x: Path(x), glob.glob(\"./geojson/*\")))\n",
    "geojson_files"
   ]
  },
  {
   "cell_type": "code",
   "execution_count": 7,
   "id": "3101943b",
   "metadata": {},
   "outputs": [
    {
     "data": {
      "text/html": [
       "\n",
       "            <style>\n",
       "                .geemap-dark {\n",
       "                    --jp-widgets-color: white;\n",
       "                    --jp-widgets-label-color: white;\n",
       "                    --jp-ui-font-color1: white;\n",
       "                    --jp-layout-color2: #454545;\n",
       "                    background-color: #383838;\n",
       "                }\n",
       "\n",
       "                .geemap-dark .jupyter-button {\n",
       "                    --jp-layout-color3: #383838;\n",
       "                }\n",
       "\n",
       "                .geemap-colab {\n",
       "                    background-color: var(--colab-primary-surface-color, white);\n",
       "                }\n",
       "\n",
       "                .geemap-colab .jupyter-button {\n",
       "                    --jp-layout-color3: var(--colab-primary-surface-color, white);\n",
       "                }\n",
       "            </style>\n",
       "            "
      ],
      "text/plain": [
       "<IPython.core.display.HTML object>"
      ]
     },
     "metadata": {},
     "output_type": "display_data"
    },
    {
     "data": {
      "text/plain": [
       "(['73.01_Kepulauan_Selayar.geojson',\n",
       "  '73.02_Bulukumba.geojson',\n",
       "  '73.03_Bantaeng.geojson',\n",
       "  '73.04_Jeneponto.geojson',\n",
       "  '73.05_Takalar.geojson',\n",
       "  '73.06_Gowa.geojson',\n",
       "  '73.07_Sinjai.geojson',\n",
       "  '73.08_Bone.geojson',\n",
       "  '73.09_Maros.geojson',\n",
       "  '73.10_Pangkajene_Kepulauan.geojson',\n",
       "  '73.11_Barru.geojson',\n",
       "  '73.12_Soppeng.geojson',\n",
       "  '73.13_Wajo.geojson',\n",
       "  '73.14_Sidenreng_Rappang.geojson',\n",
       "  '73.15_Pinrang.geojson',\n",
       "  '73.16_Enrekang.geojson',\n",
       "  '73.17_Luwu.geojson',\n",
       "  '73.18_Tana_Toraja.geojson',\n",
       "  '73.22_Luwu_Utara.geojson',\n",
       "  '73.24_Luwu_Timur.geojson',\n",
       "  '73.26_Toraja_Utara.geojson',\n",
       "  '73.71_Kota_Makassar.geojson',\n",
       "  '73.72_Kota_Pare_Pare.geojson',\n",
       "  '73.73_Kota_Palopo.geojson'],\n",
       " 'Jumlah Kota/Kab: 24')"
      ]
     },
     "execution_count": 7,
     "metadata": {},
     "output_type": "execute_result"
    }
   ],
   "source": [
    "regency_file_name = list(map(lambda x: f\"{x.stem}.geojson\", geojson_files))\n",
    "regency_file_name.sort()\n",
    "regency_file_name, f\"Jumlah Kota/Kab: {len(regency_file_name)}\""
   ]
  },
  {
   "cell_type": "code",
   "execution_count": 8,
   "id": "46da4b48",
   "metadata": {},
   "outputs": [
    {
     "data": {
      "text/html": [
       "\n",
       "            <style>\n",
       "                .geemap-dark {\n",
       "                    --jp-widgets-color: white;\n",
       "                    --jp-widgets-label-color: white;\n",
       "                    --jp-ui-font-color1: white;\n",
       "                    --jp-layout-color2: #454545;\n",
       "                    background-color: #383838;\n",
       "                }\n",
       "\n",
       "                .geemap-dark .jupyter-button {\n",
       "                    --jp-layout-color3: #383838;\n",
       "                }\n",
       "\n",
       "                .geemap-colab {\n",
       "                    background-color: var(--colab-primary-surface-color, white);\n",
       "                }\n",
       "\n",
       "                .geemap-colab .jupyter-button {\n",
       "                    --jp-layout-color3: var(--colab-primary-surface-color, white);\n",
       "                }\n",
       "            </style>\n",
       "            "
      ],
      "text/plain": [
       "<IPython.core.display.HTML object>"
      ]
     },
     "metadata": {},
     "output_type": "display_data"
    }
   ],
   "source": [
    "with tempfile.TemporaryDirectory() as temp_dir:\n",
    "    temp_dir_path =  Path(temp_dir)   "
   ]
  },
  {
   "cell_type": "code",
   "execution_count": 9,
   "id": "ac46898a",
   "metadata": {},
   "outputs": [
    {
     "data": {
      "text/html": [
       "\n",
       "            <style>\n",
       "                .geemap-dark {\n",
       "                    --jp-widgets-color: white;\n",
       "                    --jp-widgets-label-color: white;\n",
       "                    --jp-ui-font-color1: white;\n",
       "                    --jp-layout-color2: #454545;\n",
       "                    background-color: #383838;\n",
       "                }\n",
       "\n",
       "                .geemap-dark .jupyter-button {\n",
       "                    --jp-layout-color3: #383838;\n",
       "                }\n",
       "\n",
       "                .geemap-colab {\n",
       "                    background-color: var(--colab-primary-surface-color, white);\n",
       "                }\n",
       "\n",
       "                .geemap-colab .jupyter-button {\n",
       "                    --jp-layout-color3: var(--colab-primary-surface-color, white);\n",
       "                }\n",
       "            </style>\n",
       "            "
      ],
      "text/plain": [
       "<IPython.core.display.HTML object>"
      ]
     },
     "metadata": {},
     "output_type": "display_data"
    }
   ],
   "source": [
    "temp_dir_path.mkdir(parents=True, exist_ok=True)"
   ]
  },
  {
   "cell_type": "code",
   "execution_count": 10,
   "id": "a21ab086",
   "metadata": {},
   "outputs": [
    {
     "data": {
      "text/html": [
       "\n",
       "            <style>\n",
       "                .geemap-dark {\n",
       "                    --jp-widgets-color: white;\n",
       "                    --jp-widgets-label-color: white;\n",
       "                    --jp-ui-font-color1: white;\n",
       "                    --jp-layout-color2: #454545;\n",
       "                    background-color: #383838;\n",
       "                }\n",
       "\n",
       "                .geemap-dark .jupyter-button {\n",
       "                    --jp-layout-color3: #383838;\n",
       "                }\n",
       "\n",
       "                .geemap-colab {\n",
       "                    background-color: var(--colab-primary-surface-color, white);\n",
       "                }\n",
       "\n",
       "                .geemap-colab .jupyter-button {\n",
       "                    --jp-layout-color3: var(--colab-primary-surface-color, white);\n",
       "                }\n",
       "            </style>\n",
       "            "
      ],
      "text/plain": [
       "<IPython.core.display.HTML object>"
      ]
     },
     "metadata": {},
     "output_type": "display_data"
    }
   ],
   "source": [
    "for zip_path in geojson_files:\n",
    "    with zipfile.ZipFile(zip_path, 'r') as zip_ref:\n",
    "        zip_ref.extractall(temp_dir_path)"
   ]
  },
  {
   "cell_type": "code",
   "execution_count": 11,
   "id": "3d9b5124",
   "metadata": {},
   "outputs": [
    {
     "data": {
      "text/html": [
       "\n",
       "            <style>\n",
       "                .geemap-dark {\n",
       "                    --jp-widgets-color: white;\n",
       "                    --jp-widgets-label-color: white;\n",
       "                    --jp-ui-font-color1: white;\n",
       "                    --jp-layout-color2: #454545;\n",
       "                    background-color: #383838;\n",
       "                }\n",
       "\n",
       "                .geemap-dark .jupyter-button {\n",
       "                    --jp-layout-color3: #383838;\n",
       "                }\n",
       "\n",
       "                .geemap-colab {\n",
       "                    background-color: var(--colab-primary-surface-color, white);\n",
       "                }\n",
       "\n",
       "                .geemap-colab .jupyter-button {\n",
       "                    --jp-layout-color3: var(--colab-primary-surface-color, white);\n",
       "                }\n",
       "            </style>\n",
       "            "
      ],
      "text/plain": [
       "<IPython.core.display.HTML object>"
      ]
     },
     "metadata": {},
     "output_type": "display_data"
    },
    {
     "data": {
      "text/plain": [
       "([PosixPath('/tmp/tmp227lsoiy/73.01_Kepulauan_Selayar.geojson'),\n",
       "  PosixPath('/tmp/tmp227lsoiy/73.02_Bulukumba.geojson'),\n",
       "  PosixPath('/tmp/tmp227lsoiy/73.03_Bantaeng.geojson'),\n",
       "  PosixPath('/tmp/tmp227lsoiy/73.04_Jeneponto.geojson'),\n",
       "  PosixPath('/tmp/tmp227lsoiy/73.05_Takalar.geojson'),\n",
       "  PosixPath('/tmp/tmp227lsoiy/73.06_Gowa.geojson'),\n",
       "  PosixPath('/tmp/tmp227lsoiy/73.07_Sinjai.geojson'),\n",
       "  PosixPath('/tmp/tmp227lsoiy/73.08_Bone.geojson'),\n",
       "  PosixPath('/tmp/tmp227lsoiy/73.09_Maros.geojson'),\n",
       "  PosixPath('/tmp/tmp227lsoiy/73.10_Pangkajene_Kepulauan.geojson'),\n",
       "  PosixPath('/tmp/tmp227lsoiy/73.11_Barru.geojson'),\n",
       "  PosixPath('/tmp/tmp227lsoiy/73.12_Soppeng.geojson'),\n",
       "  PosixPath('/tmp/tmp227lsoiy/73.13_Wajo.geojson'),\n",
       "  PosixPath('/tmp/tmp227lsoiy/73.14_Sidenreng_Rappang.geojson'),\n",
       "  PosixPath('/tmp/tmp227lsoiy/73.15_Pinrang.geojson'),\n",
       "  PosixPath('/tmp/tmp227lsoiy/73.16_Enrekang.geojson'),\n",
       "  PosixPath('/tmp/tmp227lsoiy/73.17_Luwu.geojson'),\n",
       "  PosixPath('/tmp/tmp227lsoiy/73.18_Tana_Toraja.geojson'),\n",
       "  PosixPath('/tmp/tmp227lsoiy/73.22_Luwu_Utara.geojson'),\n",
       "  PosixPath('/tmp/tmp227lsoiy/73.24_Luwu_Timur.geojson'),\n",
       "  PosixPath('/tmp/tmp227lsoiy/73.26_Toraja_Utara.geojson'),\n",
       "  PosixPath('/tmp/tmp227lsoiy/73.71_Kota_Makassar.geojson'),\n",
       "  PosixPath('/tmp/tmp227lsoiy/73.72_Kota_Pare_Pare.geojson'),\n",
       "  PosixPath('/tmp/tmp227lsoiy/73.73_Kota_Palopo.geojson')],\n",
       " 'Jumlah Kota/Kab: 24')"
      ]
     },
     "execution_count": 11,
     "metadata": {},
     "output_type": "execute_result"
    }
   ],
   "source": [
    "extrac_geojson_files = list(map(lambda x: Path(x), glob.glob(f\"{temp_dir_path}/*.geojson\")))\n",
    "\n",
    "kab_kot_geojson = list(filter(lambda x: x.name in regency_file_name, extrac_geojson_files))\n",
    "kab_kot_geojson.sort()\n",
    "kab_kot_geojson, f\"Jumlah Kota/Kab: {len(kab_kot_geojson)}\""
   ]
  },
  {
   "cell_type": "code",
   "execution_count": 19,
   "id": "789c4257",
   "metadata": {},
   "outputs": [
    {
     "data": {
      "text/plain": [
       "'kepulauan_selayar.geojson'"
      ]
     },
     "execution_count": 19,
     "metadata": {},
     "output_type": "execute_result"
    }
   ],
   "source": [
    "test_str = \"73.01_Kepulauan_Selayar.geojson\".split(\"_\")[1:]\n",
    "test_str = \"_\".join(test_str).lower()\n",
    "test_str\n"
   ]
  },
  {
   "cell_type": "code",
   "execution_count": 20,
   "id": "4608dda4",
   "metadata": {},
   "outputs": [],
   "source": [
    "def remove_city_prefix(file_name: str) -> str:\n",
    "    \"\"\"\n",
    "    Remove the city prefix from the file name.\n",
    "    \"\"\"\n",
    "    parts = file_name.split(\"_\")\n",
    "    if len(parts) > 1:\n",
    "        return \"_\".join(parts[1:]).lower()\n",
    "    return file_name.lower()"
   ]
  },
  {
   "cell_type": "code",
   "execution_count": 24,
   "id": "cdd383d5",
   "metadata": {},
   "outputs": [
    {
     "data": {
      "text/plain": [
       "(['kepulauan_selayar.geojson',\n",
       "  'bulukumba.geojson',\n",
       "  'bantaeng.geojson',\n",
       "  'jeneponto.geojson',\n",
       "  'takalar.geojson',\n",
       "  'gowa.geojson',\n",
       "  'sinjai.geojson',\n",
       "  'bone.geojson',\n",
       "  'maros.geojson',\n",
       "  'pangkajene_kepulauan.geojson',\n",
       "  'barru.geojson',\n",
       "  'soppeng.geojson',\n",
       "  'wajo.geojson',\n",
       "  'sidenreng_rappang.geojson',\n",
       "  'pinrang.geojson',\n",
       "  'enrekang.geojson',\n",
       "  'luwu.geojson',\n",
       "  'tana_toraja.geojson',\n",
       "  'luwu_utara.geojson',\n",
       "  'luwu_timur.geojson',\n",
       "  'toraja_utara.geojson',\n",
       "  'kota_makassar.geojson',\n",
       "  'kota_pare_pare.geojson',\n",
       "  'kota_palopo.geojson'],\n",
       " 'Jumlah Kota/Kab: 24')"
      ]
     },
     "execution_count": 24,
     "metadata": {},
     "output_type": "execute_result"
    }
   ],
   "source": [
    "kab_kot_geojson_removed_prefix = list(map(lambda x: remove_city_prefix(x.name), kab_kot_geojson))\n",
    "kab_kot_geojson_removed_prefix, f\"Jumlah Kota/Kab: {len(kab_kot_geojson_removed_prefix)}\""
   ]
  },
  {
   "cell_type": "code",
   "execution_count": 25,
   "id": "d61dc590",
   "metadata": {},
   "outputs": [],
   "source": [
    "os.makedirs(\"./geojson_extract/\", exist_ok=True)\n"
   ]
  },
  {
   "cell_type": "code",
   "execution_count": 26,
   "id": "1d9d9919",
   "metadata": {},
   "outputs": [
    {
     "name": "stdout",
     "output_type": "stream",
     "text": [
      "Copying /tmp/tmpdtrknf_f/73.01_Kepulauan_Selayar.geojson to kepulauan_selayar.geojson\n",
      "Copying /tmp/tmpdtrknf_f/73.02_Bulukumba.geojson to bulukumba.geojson\n",
      "Copying /tmp/tmpdtrknf_f/73.03_Bantaeng.geojson to bantaeng.geojson\n",
      "Copying /tmp/tmpdtrknf_f/73.04_Jeneponto.geojson to jeneponto.geojson\n",
      "Copying /tmp/tmpdtrknf_f/73.05_Takalar.geojson to takalar.geojson\n",
      "Copying /tmp/tmpdtrknf_f/73.06_Gowa.geojson to gowa.geojson\n",
      "Copying /tmp/tmpdtrknf_f/73.07_Sinjai.geojson to sinjai.geojson\n",
      "Copying /tmp/tmpdtrknf_f/73.08_Bone.geojson to bone.geojson\n",
      "Copying /tmp/tmpdtrknf_f/73.09_Maros.geojson to maros.geojson\n",
      "Copying /tmp/tmpdtrknf_f/73.10_Pangkajene_Kepulauan.geojson to pangkajene_kepulauan.geojson\n",
      "Copying /tmp/tmpdtrknf_f/73.11_Barru.geojson to barru.geojson\n",
      "Copying /tmp/tmpdtrknf_f/73.12_Soppeng.geojson to soppeng.geojson\n",
      "Copying /tmp/tmpdtrknf_f/73.13_Wajo.geojson to wajo.geojson\n",
      "Copying /tmp/tmpdtrknf_f/73.14_Sidenreng_Rappang.geojson to sidenreng_rappang.geojson\n",
      "Copying /tmp/tmpdtrknf_f/73.15_Pinrang.geojson to pinrang.geojson\n",
      "Copying /tmp/tmpdtrknf_f/73.16_Enrekang.geojson to enrekang.geojson\n",
      "Copying /tmp/tmpdtrknf_f/73.17_Luwu.geojson to luwu.geojson\n",
      "Copying /tmp/tmpdtrknf_f/73.18_Tana_Toraja.geojson to tana_toraja.geojson\n",
      "Copying /tmp/tmpdtrknf_f/73.22_Luwu_Utara.geojson to luwu_utara.geojson\n",
      "Copying /tmp/tmpdtrknf_f/73.24_Luwu_Timur.geojson to luwu_timur.geojson\n",
      "Copying /tmp/tmpdtrknf_f/73.26_Toraja_Utara.geojson to toraja_utara.geojson\n",
      "Copying /tmp/tmpdtrknf_f/73.71_Kota_Makassar.geojson to kota_makassar.geojson\n",
      "Copying /tmp/tmpdtrknf_f/73.72_Kota_Pare_Pare.geojson to kota_pare_pare.geojson\n",
      "Copying /tmp/tmpdtrknf_f/73.73_Kota_Palopo.geojson to kota_palopo.geojson\n"
     ]
    }
   ],
   "source": [
    "for i, (geojson_path, new_name) in enumerate(zip(kab_kot_geojson, kab_kot_geojson_removed_prefix)):\n",
    "    print(f\"Copying {geojson_path} to {new_name}\")\n",
    "    # shutil.copy(geojson_path, f\"./geojson/extracted/{new_name}\")"
   ]
  },
  {
   "cell_type": "code",
   "execution_count": 2,
   "id": "99fc757c",
   "metadata": {},
   "outputs": [
    {
     "name": "stderr",
     "output_type": "stream",
     "text": [
      "/home/pradanaend/Documents/safeflood/gee-dataset/.venv/lib/python3.10/site-packages/geemap/conversion.py:23: UserWarning: pkg_resources is deprecated as an API. See https://setuptools.pypa.io/en/latest/pkg_resources.html. The pkg_resources package is slated for removal as early as 2025-11-30. Refrain from using this package or pin to Setuptools<81.\n",
      "  import pkg_resources\n"
     ]
    },
    {
     "ename": "NameError",
     "evalue": "name 'kab_kot_geojson' is not defined",
     "output_type": "error",
     "traceback": [
      "\u001b[0;31m---------------------------------------------------------------------------\u001b[0m",
      "\u001b[0;31mNameError\u001b[0m                                 Traceback (most recent call last)",
      "Cell \u001b[0;32mIn[2], line 9\u001b[0m\n\u001b[1;32m      5\u001b[0m ee\u001b[38;5;241m.\u001b[39mInitialize(project\u001b[38;5;241m=\u001b[39m\u001b[38;5;124m\"\u001b[39m\u001b[38;5;124mmaps-disaster\u001b[39m\u001b[38;5;124m\"\u001b[39m)\n\u001b[1;32m      7\u001b[0m Map \u001b[38;5;241m=\u001b[39m geemap\u001b[38;5;241m.\u001b[39mMap()\n\u001b[0;32m----> 9\u001b[0m geojson_path \u001b[38;5;241m=\u001b[39m \u001b[43mkab_kot_geojson\u001b[49m[\u001b[38;5;241m0\u001b[39m]  \n\u001b[1;32m     10\u001b[0m \u001b[38;5;28;01mwith\u001b[39;00m \u001b[38;5;28mopen\u001b[39m(geojson_path, \u001b[38;5;124m'\u001b[39m\u001b[38;5;124mr\u001b[39m\u001b[38;5;124m'\u001b[39m) \u001b[38;5;28;01mas\u001b[39;00m f:\n\u001b[1;32m     11\u001b[0m     geojson_data \u001b[38;5;241m=\u001b[39m json\u001b[38;5;241m.\u001b[39mload(f)\n",
      "\u001b[0;31mNameError\u001b[0m: name 'kab_kot_geojson' is not defined"
     ]
    }
   ],
   "source": [
    "import json\n",
    "import ee\n",
    "import geemap\n",
    "\n",
    "ee.Initialize(project=\"maps-disaster\")\n",
    "\n",
    "Map = geemap.Map()\n",
    "\n",
    "geojson_path = kab_kot_geojson[0]  \n",
    "with open(geojson_path, 'r') as f:\n",
    "    geojson_data = json.load(f)\n",
    "\n"
   ]
  },
  {
   "cell_type": "code",
   "execution_count": null,
   "id": "b5c0e296",
   "metadata": {},
   "outputs": [
    {
     "ename": "NameError",
     "evalue": "name 'geojson_data' is not defined",
     "output_type": "error",
     "traceback": [
      "\u001b[0;31m---------------------------------------------------------------------------\u001b[0m",
      "\u001b[0;31mNameError\u001b[0m                                 Traceback (most recent call last)",
      "Cell \u001b[0;32mIn[1], line 1\u001b[0m\n\u001b[0;32m----> 1\u001b[0m data \u001b[38;5;241m=\u001b[39m \u001b[43mgeojson_data\u001b[49m\u001b[38;5;241m.\u001b[39mget(\u001b[38;5;124m\"\u001b[39m\u001b[38;5;124mfeatures\u001b[39m\u001b[38;5;124m\"\u001b[39m)[\u001b[38;5;241m0\u001b[39m]\u001b[38;5;241m.\u001b[39mget(\u001b[38;5;124m\"\u001b[39m\u001b[38;5;124mgeometry\u001b[39m\u001b[38;5;124m\"\u001b[39m)\n\u001b[1;32m      2\u001b[0m data\n",
      "\u001b[0;31mNameError\u001b[0m: name 'geojson_data' is not defined"
     ]
    }
   ],
   "source": [
    "data = geojson_data.get(\"features\")[0].get(\"geometry\")\n",
    "data.get"
   ]
  },
  {
   "cell_type": "code",
   "execution_count": 1,
   "id": "bd8a0447",
   "metadata": {},
   "outputs": [
    {
     "ename": "NameError",
     "evalue": "name 'ee' is not defined",
     "output_type": "error",
     "traceback": [
      "\u001b[0;31m---------------------------------------------------------------------------\u001b[0m",
      "\u001b[0;31mNameError\u001b[0m                                 Traceback (most recent call last)",
      "Cell \u001b[0;32mIn[1], line 1\u001b[0m\n\u001b[0;32m----> 1\u001b[0m fc \u001b[38;5;241m=\u001b[39m \u001b[43mee\u001b[49m\u001b[38;5;241m.\u001b[39mFeatureCollection(geojson_data)\n\u001b[1;32m      3\u001b[0m Map\u001b[38;5;241m.\u001b[39maddLayer(fc, {\u001b[38;5;124m'\u001b[39m\u001b[38;5;124mcolor\u001b[39m\u001b[38;5;124m'\u001b[39m: \u001b[38;5;124m'\u001b[39m\u001b[38;5;124mred\u001b[39m\u001b[38;5;124m'\u001b[39m}, geojson_path\u001b[38;5;241m.\u001b[39mstem)\n\u001b[1;32m      4\u001b[0m Map\u001b[38;5;241m.\u001b[39mcenterObject(fc, \u001b[38;5;241m10\u001b[39m)\n",
      "\u001b[0;31mNameError\u001b[0m: name 'ee' is not defined"
     ]
    }
   ],
   "source": [
    "fc = ee.FeatureCollection(geojson_data)\n",
    "\n",
    "Map.addLayer(fc, {'color': 'red'}, geojson_path.stem)\n",
    "Map.centerObject(fc, 10)\n",
    "Map"
   ]
  }
 ],
 "metadata": {
  "kernelspec": {
   "display_name": ".venv",
   "language": "python",
   "name": "python3"
  },
  "language_info": {
   "codemirror_mode": {
    "name": "ipython",
    "version": 3
   },
   "file_extension": ".py",
   "mimetype": "text/x-python",
   "name": "python",
   "nbconvert_exporter": "python",
   "pygments_lexer": "ipython3",
   "version": "3.10.13"
  }
 },
 "nbformat": 4,
 "nbformat_minor": 5
}
